{
 "cells": [
  {
   "cell_type": "code",
   "execution_count": 1,
   "id": "5de07f49-4550-42d1-9038-876d32c54324",
   "metadata": {},
   "outputs": [
    {
     "name": "stdin",
     "output_type": "stream",
     "text": [
      "Enter 1 to generate fibonacci and 2 to exit: 1\n",
      "Enter the number of terms to generate: 20\n"
     ]
    },
    {
     "name": "stdout",
     "output_type": "stream",
     "text": [
      "[0, 1, 1, 2, 3, 5, 8, 13, 21, 34, 55, 89, 144, 233, 377, 610, 987, 1597, 2584]\n"
     ]
    },
    {
     "name": "stdin",
     "output_type": "stream",
     "text": [
      "Enter 1 to generate fibonacci and 2 to exit: 1\n",
      "Enter the number of terms to generate: 15\n"
     ]
    },
    {
     "name": "stdout",
     "output_type": "stream",
     "text": [
      "[0, 1, 1, 2, 3, 5, 8, 13, 21, 34, 55, 89, 144, 233]\n"
     ]
    },
    {
     "name": "stdin",
     "output_type": "stream",
     "text": [
      "Enter 1 to generate fibonacci and 2 to exit: 2\n"
     ]
    }
   ],
   "source": [
    "def fibonacci(no_of_terms):\n",
    "    series=[0,1]\n",
    "    for i in range(2,no_of_terms-1):\n",
    "        new_term=series[i-2]+series[i-1]\n",
    "        series.append(new_term)\n",
    "    return series\n",
    "choice=int(input(\"Enter 1 to generate fibonacci and 2 to exit:\"))\n",
    "while(choice!=2):\n",
    "    no_of_terms=int(input(\"Enter the number of terms to generate:\"))\n",
    "    result_series=fibonacci(no_of_terms)\n",
    "    print(result_series)\n",
    "    choice=int(input(\"Enter 1 to generate fibonacci and 2 to exit:\"))\n",
    "    \n"
   ]
  },
  {
   "cell_type": "code",
   "execution_count": null,
   "id": "719d1ee4-9c04-4de9-b1e7-745103e84f4f",
   "metadata": {},
   "outputs": [],
   "source": []
  }
 ],
 "metadata": {
  "kernelspec": {
   "display_name": "Python 3 (ipykernel)",
   "language": "python",
   "name": "python3"
  },
  "language_info": {
   "codemirror_mode": {
    "name": "ipython",
    "version": 3
   },
   "file_extension": ".py",
   "mimetype": "text/x-python",
   "name": "python",
   "nbconvert_exporter": "python",
   "pygments_lexer": "ipython3",
   "version": "3.12.1"
  }
 },
 "nbformat": 4,
 "nbformat_minor": 5
}
